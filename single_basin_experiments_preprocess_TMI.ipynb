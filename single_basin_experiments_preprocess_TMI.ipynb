{
 "cells": [
  {
   "cell_type": "code",
   "execution_count": 65,
   "id": "67ae15a4",
   "metadata": {
    "scrolled": true
   },
   "outputs": [],
   "source": [
    "%matplotlib inline\n",
    "import xmitgcm\n",
    "import xgcm\n",
    "import xarray as xr\n",
    "import matplotlib.pyplot as plt\n",
    "from xlayers.core import layers_apply\n",
    "import numpy as np\n",
    "from MITgcmutils import jmd95\n",
    "import time as time\n",
    "import matplotlib.colors as colors\n",
    "from pathlib import Path\n",
    "import pandas as pd\n",
    "from scipy.interpolate import interp1d"
   ]
  },
  {
   "cell_type": "code",
   "execution_count": 79,
   "id": "52fc369b",
   "metadata": {
    "scrolled": false
   },
   "outputs": [],
   "source": [
    "#load mitgcm output\n",
    "#datadir='/Users/boerzhang/Desktop/ocean_project/restart_6x16_run_134308800_KGM_KGM2xonly_diag_testdiv_gTracer'\n",
    "#datadir='/Users/boerzhang/Desktop/ocean_project/restart_6x16_run_134308800_KGM_KGM2xonly_diag_testdiv_GMadv_nobvp'\n",
    "prefixes=['Stave','Ttave','vVeltave','uVeltave','wVeltave','DIAG_tracer_adv_diff','PTRtave01','GMflux','Tdiftave','GM_Kwz-T','divergence','GMRediTensor']\n",
    "#prefixes=['GMRediTensor', 'Tdiftave', 'GMflux', 'DIAG_tracer_adv_diff', 'wVeltave', 'Ttave', 'GM_Kwz-T', 'vVeltave', 'PTRtave01', 'Stave', 'uVeltave','La']\n",
    "prefixes= ['vVeltave', 'DIAG_tracer_adv_diff', 'GM_Kwz-T', 'PTRtave01', 'wVeltave', 'GMflux', 'Ttave', 'Stave', 'Tdiftave', 'GMRediTensor', 'uVeltave','LaVH1RHO','LaHs1RHO']\n",
    "datadirGM2x='/Users/anthonymeza/Documents/GitHub/test_age_framework/Single_basin_simulations/restart_6x16_run_134308800_KGM_KGM2xonly_diag_testdiv_gTracer_skewflux_modGMdiagnose'\n",
    "datadirctr='/Users/anthonymeza/Documents/GitHub/test_age_framework/Single_basin_simulations/control_6x16_run_98893440_diag_Jan12_50year_ModGMdiag'\n",
    "datadirkappa2x='/Users/anthonymeza/Documents/GitHub/test_age_framework/Single_basin_simulations/kappa2x_6x16_run_164090878_diag_Jan12_50year_ModGMdiag'\n",
    "datadirRedi2x='/Users/anthonymeza/Documents/GitHub/test_age_framework/Single_basin_simulations/Redi2x_6x16_run_135172800_diag_Jan12_50year_ModGMdiag'\n",
    "\n",
    "#iters=[134308848]\n",
    "iters='all'\n",
    "\n",
    "def convert_coords(dataarray, dtype):\n",
    "    new_coords = {coord: dataarray.coords[coord].astype(dtype) for coord in [\"Z\", \"XC\", \"YC\"]}\n",
    "    return dataarray.assign_coords(**new_coords)\n",
    "\n",
    "dsGM2x=xmitgcm.open_mdsdataset(datadirGM2x,prefix=prefixes,iters=iters).astype('float64').compute()\n",
    "dsGM2x = convert_coords(dsGM2x, \"float64\")\n",
    "dsctr=xmitgcm.open_mdsdataset(datadirctr,prefix=prefixes,iters=iters).astype('float64').compute()\n",
    "dsctr = convert_coords(dsctr, \"float64\")\n",
    "\n",
    "dsRedi2x=xmitgcm.open_mdsdataset(datadirRedi2x,prefix=prefixes,iters=iters).astype('float64').compute()\n",
    "dsRedi2x = convert_coords(dsRedi2x, \"float64\")\n",
    "\n",
    "dskappa2x=xmitgcm.open_mdsdataset(datadirkappa2x,prefix=prefixes,iters=iters).astype('float64').compute()\n",
    "dskappa2x = convert_coords(dskappa2x, \"float64\")\n"
   ]
  },
  {
   "cell_type": "code",
   "execution_count": 81,
   "id": "04fae4d3",
   "metadata": {},
   "outputs": [],
   "source": [
    "def replace_negative_age(ds):\n",
    "    ds[\"AGE\"] = ds.AGE.where(ds.AGE >= 0)\n",
    "    ds = ds.assign_coords(Z=-ds.Z.values)\n",
    "    ds.interpolate_na(dim = [\"Z\", \"XC\", \"YC\"])\n",
    "    ds = ds.assign_coords(Z=-ds.Z.values)\n",
    "    return ds"
   ]
  },
  {
   "cell_type": "code",
   "execution_count": null,
   "id": "3c110e05",
   "metadata": {},
   "outputs": [],
   "source": [
    "ds_list = [dsctr, dsGM2x, dsRedi2x, dskappa2x]\n",
    "fnames = [\"../TMI_data/single_basin_ctrl.nc\", \"../TMI_data/single_basin_GM2X.nc\", \n",
    "          \"../TMI_data/single_basin_Redi2X.nc\", \"../TMI_data/single_basin_Kappa2X.nc\"]\n",
    "for (i, ds) in enumerate(ds_list):\n",
    "    ds = ds[[\"Ttave\", \"Stave\", \"PTRtave01\"]].mean(\"time\", keep_attrs = True).isel(Z = slice(1, None))\n",
    "    ds = ds.rename({\"Ttave\":\"THETA\", \"Stave\":\"SALT\", \"PTRtave01\":\"AGE\"})\n",
    "    ds.AGE.values = ds.AGE.values /31104000 #convert age to years\n",
    "    ds = replace_negative_age(dsctr) #replace negative ages\n",
    "    ds.AGE.values[0, :, :] = 0 * ds.AGE.values[0, :, :] #remove top level\n",
    "    ds.to_netcdf(fnames[i], engine = \"netcdf4\")"
   ]
  },
  {
   "cell_type": "markdown",
   "id": "baf396bc",
   "metadata": {},
   "source": []
  }
 ],
 "metadata": {
  "kernelspec": {
   "display_name": "Python 3",
   "language": "python",
   "name": "python3"
  },
  "language_info": {
   "codemirror_mode": {
    "name": "ipython",
    "version": 3
   },
   "file_extension": ".py",
   "mimetype": "text/x-python",
   "name": "python",
   "nbconvert_exporter": "python",
   "pygments_lexer": "ipython3",
   "version": "3.11.9"
  },
  "varInspector": {
   "cols": {
    "lenName": 16,
    "lenType": 16,
    "lenVar": 40
   },
   "kernels_config": {
    "python": {
     "delete_cmd_postfix": "",
     "delete_cmd_prefix": "del ",
     "library": "var_list.py",
     "varRefreshCmd": "print(var_dic_list())"
    },
    "r": {
     "delete_cmd_postfix": ") ",
     "delete_cmd_prefix": "rm(",
     "library": "var_list.r",
     "varRefreshCmd": "cat(var_dic_list()) "
    }
   },
   "types_to_exclude": [
    "module",
    "function",
    "builtin_function_or_method",
    "instance",
    "_Feature"
   ],
   "window_display": false
  }
 },
 "nbformat": 4,
 "nbformat_minor": 5
}
